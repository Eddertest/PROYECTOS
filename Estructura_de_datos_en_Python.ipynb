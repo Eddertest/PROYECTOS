{
  "nbformat": 4,
  "nbformat_minor": 0,
  "metadata": {
    "colab": {
      "provenance": [],
      "authorship_tag": "ABX9TyPtVGI9sIrZybcylKDmsAXf",
      "include_colab_link": true
    },
    "kernelspec": {
      "name": "python3",
      "display_name": "Python 3"
    },
    "language_info": {
      "name": "python"
    }
  },
  "cells": [
    {
      "cell_type": "markdown",
      "metadata": {
        "id": "view-in-github",
        "colab_type": "text"
      },
      "source": [
        "<a href=\"https://colab.research.google.com/github/Eddertest/PROYECTOS/blob/main/Estructura_de_datos_en_Python.ipynb\" target=\"_parent\"><img src=\"https://colab.research.google.com/assets/colab-badge.svg\" alt=\"Open In Colab\"/></a>"
      ]
    },
    {
      "cell_type": "markdown",
      "source": [
        "EJEMPLO VARIABLES"
      ],
      "metadata": {
        "id": "rdSY7PXnmxiA"
      }
    },
    {
      "cell_type": "code",
      "execution_count": 7,
      "metadata": {
        "colab": {
          "base_uri": "https://localhost:8080/"
        },
        "id": "04nVr_fjhUe1",
        "outputId": "5c8f899b-d1b2-48cd-d993-6518ac744b65"
      },
      "outputs": [
        {
          "output_type": "stream",
          "name": "stdout",
          "text": [
            "El valor de miVariable es  10\n"
          ]
        }
      ],
      "source": [
        "miVariable = 10\n",
        "print(\"El valor de miVariable es \", miVariable)"
      ]
    },
    {
      "cell_type": "code",
      "source": [
        "miVariable = 10\n",
        "print(miVariable)"
      ],
      "metadata": {
        "colab": {
          "base_uri": "https://localhost:8080/"
        },
        "id": "Yi83yie9iOZK",
        "outputId": "13902432-2b91-4df8-f01b-422eee8d3c58"
      },
      "execution_count": 8,
      "outputs": [
        {
          "output_type": "stream",
          "name": "stdout",
          "text": [
            "10\n"
          ]
        }
      ]
    },
    {
      "cell_type": "code",
      "source": [
        "a= 10\n",
        "b= 35\n",
        "c= a + b\n",
        "print(c)"
      ],
      "metadata": {
        "colab": {
          "base_uri": "https://localhost:8080/"
        },
        "id": "pyJuL2zFkOwH",
        "outputId": "c1a78b65-2161-4ed0-9a41-27492ec981ad"
      },
      "execution_count": 9,
      "outputs": [
        {
          "output_type": "stream",
          "name": "stdout",
          "text": [
            "45\n"
          ]
        }
      ]
    },
    {
      "cell_type": "code",
      "source": [
        "x = 8\n",
        "y = 3\n",
        "ecuacion = x**2 + y\n",
        "print(\"F(x+y) =\", ecuacion)"
      ],
      "metadata": {
        "colab": {
          "base_uri": "https://localhost:8080/"
        },
        "id": "PaDRacB3lG0T",
        "outputId": "2027e655-ec31-4fc4-ce4c-ef18ee777df1"
      },
      "execution_count": 15,
      "outputs": [
        {
          "output_type": "stream",
          "name": "stdout",
          "text": [
            "F(x+y) = 67\n"
          ]
        }
      ]
    }
  ]
}