{
  "nbformat": 4,
  "nbformat_minor": 0,
  "metadata": {
    "colab": {
      "provenance": [],
      "authorship_tag": "ABX9TyMCMn3rHLVSiFpOvVzQeWLq",
      "include_colab_link": true
    },
    "kernelspec": {
      "name": "python3",
      "display_name": "Python 3"
    },
    "language_info": {
      "name": "python"
    }
  },
  "cells": [
    {
      "cell_type": "markdown",
      "metadata": {
        "id": "view-in-github",
        "colab_type": "text"
      },
      "source": [
        "<a href=\"https://colab.research.google.com/github/Eddertest/PROYECTOS/blob/main/Estructura_de_datos_en_Python.ipynb\" target=\"_parent\"><img src=\"https://colab.research.google.com/assets/colab-badge.svg\" alt=\"Open In Colab\"/></a>"
      ]
    },
    {
      "cell_type": "markdown",
      "source": [
        "EJEMPLO VARIABLES"
      ],
      "metadata": {
        "id": "rdSY7PXnmxiA"
      }
    },
    {
      "cell_type": "code",
      "execution_count": null,
      "metadata": {
        "colab": {
          "base_uri": "https://localhost:8080/"
        },
        "id": "04nVr_fjhUe1",
        "outputId": "5c8f899b-d1b2-48cd-d993-6518ac744b65"
      },
      "outputs": [
        {
          "output_type": "stream",
          "name": "stdout",
          "text": [
            "El valor de miVariable es  10\n"
          ]
        }
      ],
      "source": [
        "miVariable = 10\n",
        "print(\"El valor de miVariable es \", miVariable)"
      ]
    },
    {
      "cell_type": "code",
      "source": [
        "miVariable = 10\n",
        "print(miVariable)"
      ],
      "metadata": {
        "colab": {
          "base_uri": "https://localhost:8080/"
        },
        "id": "Yi83yie9iOZK",
        "outputId": "13902432-2b91-4df8-f01b-422eee8d3c58"
      },
      "execution_count": null,
      "outputs": [
        {
          "output_type": "stream",
          "name": "stdout",
          "text": [
            "10\n"
          ]
        }
      ]
    },
    {
      "cell_type": "code",
      "source": [
        "a= 10\n",
        "b= 35\n",
        "c= a + b\n",
        "print(c)"
      ],
      "metadata": {
        "colab": {
          "base_uri": "https://localhost:8080/"
        },
        "id": "pyJuL2zFkOwH",
        "outputId": "c1a78b65-2161-4ed0-9a41-27492ec981ad"
      },
      "execution_count": null,
      "outputs": [
        {
          "output_type": "stream",
          "name": "stdout",
          "text": [
            "45\n"
          ]
        }
      ]
    },
    {
      "cell_type": "code",
      "source": [
        "x = 8\n",
        "y = 3\n",
        "ecuacion = x**2 + y\n",
        "print(\"F(x+y) =\", ecuacion)"
      ],
      "metadata": {
        "colab": {
          "base_uri": "https://localhost:8080/"
        },
        "id": "PaDRacB3lG0T",
        "outputId": "2027e655-ec31-4fc4-ce4c-ef18ee777df1"
      },
      "execution_count": null,
      "outputs": [
        {
          "output_type": "stream",
          "name": "stdout",
          "text": [
            "F(x+y) = 67\n"
          ]
        }
      ]
    },
    {
      "cell_type": "markdown",
      "source": [
        "LISTAS\n",
        "\n",
        "\n",
        "Las listas son conjuntos de valores que me permiten almacenar mucha información\n",
        "\n",
        "Se declaran parecido a una variable, pero cada elemento se separa por una coma, y todo el conjunto se encierra entre corchetes\n",
        "\n",
        "Ejemplo: miLista = [5,4,3,2,1]"
      ],
      "metadata": {
        "id": "i-IF8w772g-b"
      }
    },
    {
      "cell_type": "code",
      "source": [
        "planetas = [\"Mercurio\",\"Venus\",\"Tierra\",\"Marte\",\"Júpiter\",\"Saturno\",\"Urano\",\"Neptuno\"]\n",
        "# ¿Cuál es el segundo planeta del sistema solar?\n",
        "print(planetas[3])#rellenar\n",
        "print(planetas[-1]) #rellenar\n",
        "planetas.append(\"Plutón\") #  \"append\" nos permite agregar elementos en una lista.\n",
        "print(planetas[-1]) #rellenar\n"
      ],
      "metadata": {
        "id": "0KW6o_yr2kE4",
        "outputId": "a85cbb65-6d90-42c6-dacb-25547ce707a5",
        "colab": {
          "base_uri": "https://localhost:8080/"
        }
      },
      "execution_count": 13,
      "outputs": [
        {
          "output_type": "stream",
          "name": "stdout",
          "text": [
            "Marte\n",
            "Neptuno\n",
            "Plutón\n"
          ]
        }
      ]
    },
    {
      "cell_type": "markdown",
      "source": [
        "Si quiero ver un elemento de la lista, basta con poner el número del elemento entre corchetes.\n",
        "\n",
        "Ejemplo: miLista[0]\n",
        "\n",
        "Nota: En Python, los elementos se cuentan a partir del cero, así que cuando nos referimos a miLista[0], me trae el primer elemento (5)"
      ],
      "metadata": {
        "id": "_K_0YXiK279X"
      }
    },
    {
      "cell_type": "code",
      "source": [
        "x = [-5,-4,-3,-2,-1,0,1,2,3,4,5]\n",
        "y = 1\n",
        "fx = [] #lista vacía\n",
        "\n",
        "for elemento in x:\n",
        "    fx.append(elemento**2 + y)\n",
        "\n",
        "print(f\"F(x) = {fx}\")"
      ],
      "metadata": {
        "id": "8fWfSLD_29zP",
        "outputId": "ffedc53d-3ccf-485e-d8ec-d7ac4691894d",
        "colab": {
          "base_uri": "https://localhost:8080/"
        }
      },
      "execution_count": 14,
      "outputs": [
        {
          "output_type": "stream",
          "name": "stdout",
          "text": [
            "F(x) = [26, 17, 10, 5, 2, 1, 2, 5, 10, 17, 26]\n"
          ]
        }
      ]
    },
    {
      "cell_type": "markdown",
      "source": [
        "EL RESULTADO ANTERIOR ES IGUAL AL SIGUIENTE"
      ],
      "metadata": {
        "id": "5nrgdIbH5gNK"
      }
    },
    {
      "cell_type": "code",
      "source": [
        "x = [-5,-4,-3,-2,-1,0,1,2,3,4,5]\n",
        "y = 1\n",
        "fx = [] #lista vacía\n",
        "\n",
        "for elemento in x:\n",
        "    fx.append(elemento**2 + y)\n",
        "\n",
        "print(\"F(x) = \" , fx)"
      ],
      "metadata": {
        "id": "kT0n90Ku5Wcr",
        "outputId": "49806414-28a4-46b7-b3d5-30cb50400f2d",
        "colab": {
          "base_uri": "https://localhost:8080/"
        }
      },
      "execution_count": 16,
      "outputs": [
        {
          "output_type": "stream",
          "name": "stdout",
          "text": [
            "F(x) =  [26, 17, 10, 5, 2, 1, 2, 5, 10, 17, 26]\n"
          ]
        }
      ]
    },
    {
      "cell_type": "markdown",
      "source": [
        "DICCIONARIOS:"
      ],
      "metadata": {
        "id": "LzyzFNpF5uq9"
      }
    },
    {
      "cell_type": "code",
      "source": [
        "sensores = {\n",
        "    \"t_sala_control\":30,\n",
        "    \"t_oficina1\":24,\n",
        "    \"t_deposito\":16\n",
        "}\n",
        "print(\"la temperatura de la zona elegida es\",sensores[\"t_deposito\"])"
      ],
      "metadata": {
        "id": "cmySF6kh5x18",
        "outputId": "9c821fc3-a118-4b6b-83bf-faf1a0f1c109",
        "colab": {
          "base_uri": "https://localhost:8080/"
        }
      },
      "execution_count": 19,
      "outputs": [
        {
          "output_type": "stream",
          "name": "stdout",
          "text": [
            "la temperatura de la zona elegida es 16\n"
          ]
        }
      ]
    }
  ]
}