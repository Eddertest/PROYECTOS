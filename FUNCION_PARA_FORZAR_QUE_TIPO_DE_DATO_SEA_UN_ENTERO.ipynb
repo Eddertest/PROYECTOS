{
  "nbformat": 4,
  "nbformat_minor": 0,
  "metadata": {
    "colab": {
      "provenance": [],
      "authorship_tag": "ABX9TyNhIttwKnxjAnZOczcbXdXO",
      "include_colab_link": true
    },
    "kernelspec": {
      "name": "python3",
      "display_name": "Python 3"
    },
    "language_info": {
      "name": "python"
    }
  },
  "cells": [
    {
      "cell_type": "markdown",
      "metadata": {
        "id": "view-in-github",
        "colab_type": "text"
      },
      "source": [
        "<a href=\"https://colab.research.google.com/github/Eddertest/PROYECTOS/blob/main/FUNCION_PARA_FORZAR_QUE_TIPO_DE_DATO_SEA_UN_ENTERO.ipynb\" target=\"_parent\"><img src=\"https://colab.research.google.com/assets/colab-badge.svg\" alt=\"Open In Colab\"/></a>"
      ]
    },
    {
      "cell_type": "markdown",
      "source": [
        "FUNCION PARA FORZAR QUE TIPO DE DATO SEA UN ENTERO"
      ],
      "metadata": {
        "id": "m5hBXogmxt1P"
      }
    },
    {
      "cell_type": "code",
      "source": [
        "numero = int (input (\"Por favor, escriba un número entero: 4\"))\n",
        "print (\"el número seleccionado es :\",  )"
      ],
      "metadata": {
        "id": "dod73vgU2sBT"
      },
      "execution_count": null,
      "outputs": []
    }
  ]
}