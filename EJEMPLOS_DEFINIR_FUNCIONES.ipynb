{
  "nbformat": 4,
  "nbformat_minor": 0,
  "metadata": {
    "colab": {
      "provenance": [],
      "authorship_tag": "ABX9TyMR9aFXimcdgX7t9XnjwMZW",
      "include_colab_link": true
    },
    "kernelspec": {
      "name": "python3",
      "display_name": "Python 3"
    },
    "language_info": {
      "name": "python"
    }
  },
  "cells": [
    {
      "cell_type": "markdown",
      "metadata": {
        "id": "view-in-github",
        "colab_type": "text"
      },
      "source": [
        "<a href=\"https://colab.research.google.com/github/Eddertest/PROYECTOS/blob/main/EJEMPLOS_DEFINIR_FUNCIONES.ipynb\" target=\"_parent\"><img src=\"https://colab.research.google.com/assets/colab-badge.svg\" alt=\"Open In Colab\"/></a>"
      ]
    },
    {
      "cell_type": "markdown",
      "source": [
        "EJEMPLOS DEFINIR FUNCIONES"
      ],
      "metadata": {
        "id": "6pUHsBISswUb"
      }
    },
    {
      "cell_type": "code",
      "execution_count": 3,
      "metadata": {
        "colab": {
          "base_uri": "https://localhost:8080/"
        },
        "id": "_ncPdVLvp7yC",
        "outputId": "17a2dd8c-157e-4717-ab90-70141bc3f5a2"
      },
      "outputs": [
        {
          "output_type": "stream",
          "name": "stdout",
          "text": [
            "ALARMA! PERRIS\n"
          ]
        }
      ],
      "source": [
        "def chequarSensor(sensor,umbral):\n",
        "  if sensor > umbral:\n",
        "    print(\"ALARMA! PERRIS\")\n",
        "  else:\n",
        "    print(\"TEMPERATURA UNA CHIMBA PAPA!\")\n",
        "\n",
        "temperatura1 = 100\n",
        "temperatura2 =  50\n",
        "\n",
        "chequarSensor(temperatura1,99)\n"
      ]
    },
    {
      "cell_type": "markdown",
      "source": [
        "2 EJEMPLO"
      ],
      "metadata": {
        "id": "25FMh63js6Fh"
      }
    },
    {
      "cell_type": "code",
      "source": [
        "import math\n",
        "\n",
        "math.pi\n",
        "\n",
        "def CalcularAreaCirculo(radio):\n",
        "  areacirculo = math.pi * (radio**2)\n",
        "  print(\"El area del circulo es\" , areacirculo)\n",
        "\n",
        "CalcularAreaCirculo(10)"
      ],
      "metadata": {
        "colab": {
          "base_uri": "https://localhost:8080/"
        },
        "id": "vcV9TqWcs-dO",
        "outputId": "75ecb887-ceed-4de7-9df9-f8bfc3412de4"
      },
      "execution_count": 5,
      "outputs": [
        {
          "output_type": "stream",
          "name": "stdout",
          "text": [
            "El area del circulo es 314.1592653589793\n"
          ]
        }
      ]
    }
  ]
}